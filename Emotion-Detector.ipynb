{
 "cells": [
  {
   "cell_type": "markdown",
   "id": "209d5278",
   "metadata": {},
   "source": [
    "# Using Little VGG for emotion detection"
   ]
  },
  {
   "cell_type": "markdown",
   "id": "78a2feda",
   "metadata": {},
   "source": [
    "Training Emotion Detector"
   ]
  },
  {
   "cell_type": "code",
   "execution_count": 1,
   "id": "ad3d6a97",
   "metadata": {},
   "outputs": [
    {
     "name": "stdout",
     "output_type": "stream",
     "text": [
      "Found 28273 images belonging to 6 classes.\n",
      "Found 3534 images belonging to 6 classes.\n"
     ]
    }
   ],
   "source": [
    "from __future__ import print_function\n",
    "import keras\n",
    "from keras.preprocessing.image import ImageDataGenerator\n",
    "from keras.models import Sequential\n",
    "from keras.layers import Dense,Dropout,Activation,Flatten,BatchNormalization,Conv2D,MaxPooling2D\n",
    "import os\n",
    "\n",
    "num_classes=6\n",
    "img_rows,img_cols=48,48\n",
    "batch_size=18\n",
    "\n",
    "train_data_dir='./fer2013/train'\n",
    "validation_data_dir='./fer2013/validation'\n",
    "\n",
    "#data augmentation\n",
    "train_datagen=ImageDataGenerator(\n",
    "             rescale=1./255,\n",
    "             rotation_range=30,\n",
    "             shear_range=0.5,\n",
    "             width_shift_range=0.6,\n",
    "             height_shift_range=0.3,\n",
    "             horizontal_flip=True,\n",
    "             fill_mode='nearest')\n",
    "\n",
    "validation_datagen=ImageDataGenerator(rescale=1./255)\n",
    "\n",
    "train_generator=train_datagen.flow_from_directory(\n",
    "            train_data_dir,\n",
    "            color_mode='grayscale',\n",
    "            target_size=(img_rows,img_cols),\n",
    "            batch_size=batch_size,\n",
    "            class_mode='categorical',\n",
    "            shuffle=True)\n",
    "\n",
    "validation_generator=validation_datagen.flow_from_directory(\n",
    "            validation_data_dir,\n",
    "            color_mode='grayscale',\n",
    "            target_size=(img_rows,img_cols),\n",
    "            batch_size=batch_size,\n",
    "            class_mode='categorical',\n",
    "            shuffle=True)\n"
   ]
  },
  {
   "cell_type": "code",
   "execution_count": null,
   "id": "1ee12368",
   "metadata": {},
   "outputs": [],
   "source": []
  }
 ],
 "metadata": {
  "kernelspec": {
   "display_name": "Python 3",
   "language": "python",
   "name": "python3"
  },
  "language_info": {
   "codemirror_mode": {
    "name": "ipython",
    "version": 3
   },
   "file_extension": ".py",
   "mimetype": "text/x-python",
   "name": "python",
   "nbconvert_exporter": "python",
   "pygments_lexer": "ipython3",
   "version": "3.9.5"
  }
 },
 "nbformat": 4,
 "nbformat_minor": 5
}
